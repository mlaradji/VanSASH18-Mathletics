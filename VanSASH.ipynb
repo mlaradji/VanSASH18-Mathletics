{
 "cells": [
  {
   "cell_type": "code",
   "execution_count": 153,
   "metadata": {
    "collapsed": true
   },
   "outputs": [],
   "source": [
    "import numpy as np\n",
    "import matplotlib.pyplot as plt\n",
    "import math \n",
    "import pandas as pd"
   ]
  },
  {
   "cell_type": "code",
   "execution_count": 156,
   "metadata": {},
   "outputs": [],
   "source": [
    "csv_file = \"VASASHData.csv\""
   ]
  },
  {
   "cell_type": "code",
   "execution_count": 157,
   "metadata": {},
   "outputs": [],
   "source": [
    "data = pd.read_csv(csv_file,encoding='latin1')"
   ]
  },
  {
   "cell_type": "code",
   "execution_count": 158,
   "metadata": {},
   "outputs": [
    {
     "data": {
      "text/plain": [
       "Index(['EIAannoID', 'ID', 'Match', 'Round', 'half', 'time',\n",
       "       'Team in possession', 'possessionlabel', 'player', 'postion',\n",
       "       'positiondetail', 'team', 'Action', 'Atr', 'LocX', 'LocY', 'Result',\n",
       "       'Direction/type', 'distance', 'angle', 'DS', 'Season'],\n",
       "      dtype='object')"
      ]
     },
     "execution_count": 158,
     "metadata": {},
     "output_type": "execute_result"
    }
   ],
   "source": [
    "data.columns"
   ]
  },
  {
   "cell_type": "code",
   "execution_count": 159,
   "metadata": {},
   "outputs": [
    {
     "data": {
      "text/plain": [
       "EIAannoID               int64\n",
       "ID                      int64\n",
       "Match                   int64\n",
       "Round                   int64\n",
       "half                    int64\n",
       "time                  float64\n",
       "Team in possession     object\n",
       "possessionlabel        object\n",
       "player                 object\n",
       "postion                object\n",
       "positiondetail         object\n",
       "team                   object\n",
       "Action                 object\n",
       "Atr                    object\n",
       "LocX                  float64\n",
       "LocY                  float64\n",
       "Result                 object\n",
       "Direction/type         object\n",
       "distance              float64\n",
       "angle                 float64\n",
       "DS                      int64\n",
       "Season                float64\n",
       "dtype: object"
      ]
     },
     "execution_count": 159,
     "metadata": {},
     "output_type": "execute_result"
    }
   ],
   "source": [
    "data.dtypes"
   ]
  },
  {
   "cell_type": "code",
   "execution_count": 160,
   "metadata": {
    "scrolled": true
   },
   "outputs": [],
   "source": [
    "frame = pd.DataFrame(data)\n",
    "#frame[data['team']=='Vancouver Whitecaps FC']"
   ]
  },
  {
   "cell_type": "code",
   "execution_count": 161,
   "metadata": {
    "collapsed": true
   },
   "outputs": [],
   "source": [
    "def allTargets(player_name,action):\n",
    "    player_frame = frame[data['player']==player_name]\n",
    "    pass_targets = dict()\n",
    "    pass_count = 0\n",
    "    for target in player_frame[player_frame['Action']==action]['Result']:\n",
    "        if target in pass_targets:\n",
    "            pass_targets[target] += 1\n",
    "            pass_count += 1\n",
    "        else:\n",
    "            pass_targets[target] = 1\n",
    "            pass_count += 1\n",
    "    return pass_targets, pass_count\n"
   ]
  },
  {
   "cell_type": "code",
   "execution_count": 162,
   "metadata": {},
   "outputs": [],
   "source": [
    "targets,tot_cnt = allTargets(\"Kendall Waston\",'pass')"
   ]
  },
  {
   "cell_type": "code",
   "execution_count": 171,
   "metadata": {
    "collapsed": true
   },
   "outputs": [],
   "source": [
    "def actionFreq(action_dict,tot_cnt):\n",
    "    freq_dict = dict()\n",
    "    for player in targets:\n",
    "        freq_dict[player] = float(targets[player])/tot_cnt\n",
    "    return freq_dict"
   ]
  },
  {
   "cell_type": "code",
   "execution_count": 172,
   "metadata": {},
   "outputs": [],
   "source": [
    "a_f = actionFreq(targets,tot_cnt)"
   ]
  },
  {
   "cell_type": "code",
   "execution_count": 183,
   "metadata": {
    "scrolled": false
   },
   "outputs": [],
   "source": [
    "def dict2List(dict_):\n",
    "    L = []\n",
    "    for key in dict_:\n",
    "        if key != 'NotCompleted':\n",
    "            L.append([dict_[key],key])\n",
    "    L = L.sort()\n",
    "    L_key = []\n",
    "    L_ele = []\n",
    "    for pair in L:\n",
    "        \n",
    "        else:\n",
    "            L_key.append(key)\n",
    "            L_ele.append(dict_[key])\n",
    "    #L_key.append('Not Completed')\n",
    "    #L_ele.append(not_comp)\n",
    "    return L_key,L_ele"
   ]
  },
  {
   "cell_type": "code",
   "execution_count": 181,
   "metadata": {},
   "outputs": [],
   "source": [
    "act_list,tar_list = dict2List(a_f)"
   ]
  },
  {
   "cell_type": "code",
   "execution_count": 182,
   "metadata": {},
   "outputs": [
    {
     "data": {
      "image/png": "[encoded data removed]",
      "text/plain": [
       "<matplotlib.figure.Figure at 0x108320198>"
      ]
     },
     "metadata": {},
     "output_type": "display_data"
    }
   ],
   "source": [
    "plt.figure(figsize=(15,8))\n",
    "plt.xticks(rotation='vertical')\n",
    "plt.bar(act_list,tar_list)\n",
    "plt.show()"
   ]
  },
  {
   "cell_type": "code",
   "execution_count": 120,
   "metadata": {},
   "outputs": [
    {
     "name": "stdout",
     "output_type": "stream",
     "text": [
      "EIAannoID               int64\n",
      "ID                      int64\n",
      "Match                   int64\n",
      "Round                   int64\n",
      "half                    int64\n",
      "time                  float64\n",
      "Team in possession     object\n",
      "possessionlabel        object\n",
      "player                 object\n",
      "postion                object\n",
      "positiondetail         object\n",
      "team                   object\n",
      "Action                 object\n",
      "Atr                    object\n",
      "LocX                  float64\n",
      "LocY                  float64\n",
      "Result                 object\n",
      "Direction/type         object\n",
      "distance              float64\n",
      "angle                 float64\n",
      "DS                      int64\n",
      "Season                  int64\n",
      "dtype: object\n"
     ]
    }
   ],
   "source": [
    "#print(frame.Team) #Or \"frame['Team']\"\n",
    "\n",
    "#for i in range(0,890):\n",
    "#    if frame.ix[i] #Looks at one row (player in this case) of data\n",
    "\n",
    "#print(\"********************\\n***** Describe *****\\n********************\")\n",
    "#print(data.describe())\n",
    "\n",
    "#print(\"************************\\n***** Sort - Teams *****\\n************************\")\n",
    "#print(data.sort_values(by=\"Team\"))\n",
    "\n",
    "#print(\"**********************\\n***** Last Names *****\\n**********************\")\n",
    "#print(data[\"Last Name\"])\n",
    "\n",
    "#print(\"***********************************\\n***** Last Names, First Names *****\\n***********************************\")\n",
    "#print(data.loc[:,['LastName','FirstName']])   # \".head()\" shows the first 5 entries, similarly \".tail()\" shows the last 5\n",
    "\n",
    "#print(\"********************************\\n***** First Player's Stats *****\\n********************************\")\n",
    "#print(data.loc[0])\n",
    "\n",
    "#print(\"***************************\\n***** Players Over 6\\\" *****\\n***************************\")\n",
    "#print(data[data.Ht > 72])\n",
    "\n",
    "#print(\"********************************\\n***** Mean of all sections *****\\n********************************\")\n",
    "#print(data.mean())\n",
    "\n",
    "#print(\"***************************************************\\n***** Add all sections, but seperated by team *****\\n***************************************************\")\n",
    "#print(data.groupby([\"Team\"]).sum())\n",
    "\n",
    "#print(\"*************************************\\n***** Restacks the data per Row *****\\n*************************************\")\n",
    "#print(data.stack())\n",
    "\n",
    "#print(\"*****************************\\n***** Unstacks the data *****\\n*****************************\")\n",
    "#print(data.unstack())\n",
    "\n",
    "#print(\"*****************************\\n***** Prints players with last name Marner *****\\n*****************************\")\n",
    "#print(data['Last Name' == 'Marner'])\n"
   ]
  },
  {
   "cell_type": "code",
   "execution_count": null,
   "metadata": {
    "collapsed": true
   },
   "outputs": [],
   "source": []
  }
 ],
 "metadata": {
  "kernelspec": {
   "display_name": "Python 3",
   "language": "python",
   "name": "python3"
  },
  "language_info": {
   "codemirror_mode": {
    "name": "ipython",
    "version": 3
   },
   "file_extension": ".py",
   "mimetype": "text/x-python",
   "name": "python",
   "nbconvert_exporter": "python",
   "pygments_lexer": "ipython3",
   "version": "3.6.3"
  }
 },
 "nbformat": 4,
 "nbformat_minor": 2
}
